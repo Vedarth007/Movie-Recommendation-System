{
  "nbformat": 4,
  "nbformat_minor": 0,
  "metadata": {
    "colab": {
      "provenance": [],
      "gpuType": "T4"
    },
    "kernelspec": {
      "name": "python3",
      "display_name": "Python 3"
    },
    "language_info": {
      "name": "python"
    },
    "accelerator": "GPU"
  },
  "cells": [
    {
      "cell_type": "code",
      "source": [
        "!pip install scikit-surprise\n"
      ],
      "metadata": {
        "colab": {
          "base_uri": "https://localhost:8080/"
        },
        "id": "0xJdudDt3opO",
        "outputId": "ec235bf1-b77c-4e72-a3e6-8275e8b884bf"
      },
      "execution_count": 2,
      "outputs": [
        {
          "output_type": "stream",
          "name": "stdout",
          "text": [
            "Collecting scikit-surprise\n",
            "  Downloading scikit_surprise-1.1.4.tar.gz (154 kB)\n",
            "\u001b[?25l     \u001b[90m━━━━━━━━━━━━━━━━━━━━━━━━━━━━━━━━━━━━━━━━\u001b[0m \u001b[32m0.0/154.4 kB\u001b[0m \u001b[31m?\u001b[0m eta \u001b[36m-:--:--\u001b[0m\r\u001b[2K     \u001b[90m━━━━━━━━━━━━━━━━━━━━━━━━━━━━━━━━━━━━━━━━\u001b[0m \u001b[32m154.4/154.4 kB\u001b[0m \u001b[31m12.0 MB/s\u001b[0m eta \u001b[36m0:00:00\u001b[0m\n",
            "\u001b[?25h  Installing build dependencies ... \u001b[?25l\u001b[?25hdone\n",
            "  Getting requirements to build wheel ... \u001b[?25l\u001b[?25hdone\n",
            "  Preparing metadata (pyproject.toml) ... \u001b[?25l\u001b[?25hdone\n",
            "Requirement already satisfied: joblib>=1.2.0 in /usr/local/lib/python3.10/dist-packages (from scikit-surprise) (1.4.2)\n",
            "Requirement already satisfied: numpy>=1.19.5 in /usr/local/lib/python3.10/dist-packages (from scikit-surprise) (1.26.4)\n",
            "Requirement already satisfied: scipy>=1.6.0 in /usr/local/lib/python3.10/dist-packages (from scikit-surprise) (1.13.1)\n",
            "Building wheels for collected packages: scikit-surprise\n",
            "  Building wheel for scikit-surprise (pyproject.toml) ... \u001b[?25l\u001b[?25hdone\n",
            "  Created wheel for scikit-surprise: filename=scikit_surprise-1.1.4-cp310-cp310-linux_x86_64.whl size=2357288 sha256=d9512287ec45c353a62554da04e0aa1b9bfde511a4a384a2980a02f273e4c9b1\n",
            "  Stored in directory: /root/.cache/pip/wheels/4b/3f/df/6acbf0a40397d9bf3ff97f582cc22fb9ce66adde75bc71fd54\n",
            "Successfully built scikit-surprise\n",
            "Installing collected packages: scikit-surprise\n",
            "Successfully installed scikit-surprise-1.1.4\n"
          ]
        }
      ]
    },
    {
      "cell_type": "code",
      "source": [
        "!pip install faiss-cpu shap\n"
      ],
      "metadata": {
        "colab": {
          "base_uri": "https://localhost:8080/"
        },
        "id": "n5FqZHD04uLe",
        "outputId": "a8523b6a-7df4-4a7c-ba79-afffd52696e4"
      },
      "execution_count": 3,
      "outputs": [
        {
          "output_type": "stream",
          "name": "stdout",
          "text": [
            "Collecting faiss-cpu\n",
            "  Downloading faiss_cpu-1.9.0-cp310-cp310-manylinux_2_17_x86_64.manylinux2014_x86_64.whl.metadata (4.4 kB)\n",
            "Requirement already satisfied: shap in /usr/local/lib/python3.10/dist-packages (0.46.0)\n",
            "Requirement already satisfied: numpy<3.0,>=1.25.0 in /usr/local/lib/python3.10/dist-packages (from faiss-cpu) (1.26.4)\n",
            "Requirement already satisfied: packaging in /usr/local/lib/python3.10/dist-packages (from faiss-cpu) (24.1)\n",
            "Requirement already satisfied: scipy in /usr/local/lib/python3.10/dist-packages (from shap) (1.13.1)\n",
            "Requirement already satisfied: scikit-learn in /usr/local/lib/python3.10/dist-packages (from shap) (1.5.2)\n",
            "Requirement already satisfied: pandas in /usr/local/lib/python3.10/dist-packages (from shap) (2.2.2)\n",
            "Requirement already satisfied: tqdm>=4.27.0 in /usr/local/lib/python3.10/dist-packages (from shap) (4.66.6)\n",
            "Requirement already satisfied: slicer==0.0.8 in /usr/local/lib/python3.10/dist-packages (from shap) (0.0.8)\n",
            "Requirement already satisfied: numba in /usr/local/lib/python3.10/dist-packages (from shap) (0.60.0)\n",
            "Requirement already satisfied: cloudpickle in /usr/local/lib/python3.10/dist-packages (from shap) (3.1.0)\n",
            "Requirement already satisfied: llvmlite<0.44,>=0.43.0dev0 in /usr/local/lib/python3.10/dist-packages (from numba->shap) (0.43.0)\n",
            "Requirement already satisfied: python-dateutil>=2.8.2 in /usr/local/lib/python3.10/dist-packages (from pandas->shap) (2.8.2)\n",
            "Requirement already satisfied: pytz>=2020.1 in /usr/local/lib/python3.10/dist-packages (from pandas->shap) (2024.2)\n",
            "Requirement already satisfied: tzdata>=2022.7 in /usr/local/lib/python3.10/dist-packages (from pandas->shap) (2024.2)\n",
            "Requirement already satisfied: joblib>=1.2.0 in /usr/local/lib/python3.10/dist-packages (from scikit-learn->shap) (1.4.2)\n",
            "Requirement already satisfied: threadpoolctl>=3.1.0 in /usr/local/lib/python3.10/dist-packages (from scikit-learn->shap) (3.5.0)\n",
            "Requirement already satisfied: six>=1.5 in /usr/local/lib/python3.10/dist-packages (from python-dateutil>=2.8.2->pandas->shap) (1.16.0)\n",
            "Downloading faiss_cpu-1.9.0-cp310-cp310-manylinux_2_17_x86_64.manylinux2014_x86_64.whl (27.5 MB)\n",
            "\u001b[2K   \u001b[90m━━━━━━━━━━━━━━━━━━━━━━━━━━━━━━━━━━━━━━━━\u001b[0m \u001b[32m27.5/27.5 MB\u001b[0m \u001b[31m49.4 MB/s\u001b[0m eta \u001b[36m0:00:00\u001b[0m\n",
            "\u001b[?25hInstalling collected packages: faiss-cpu\n",
            "Successfully installed faiss-cpu-1.9.0\n"
          ]
        }
      ]
    },
    {
      "cell_type": "code",
      "execution_count": 5,
      "metadata": {
        "colab": {
          "base_uri": "https://localhost:8080/",
          "height": 206
        },
        "id": "k2gnklup2-9o",
        "outputId": "b259d203-8b22-4e72-d3b2-bfa76a28cf13"
      },
      "outputs": [
        {
          "output_type": "execute_result",
          "data": {
            "text/plain": [
              "   userId  movieId  rating            timestamp  \\\n",
              "0       1        2     3.5  2005-04-02 23:53:47   \n",
              "1       1       29     3.5  2005-04-02 23:31:16   \n",
              "2       1       32     3.5  2005-04-02 23:33:39   \n",
              "3       1       47     3.5  2005-04-02 23:32:07   \n",
              "4       1       50     3.5  2005-04-02 23:29:40   \n",
              "\n",
              "                                               title  \\\n",
              "0                                     Jumanji (1995)   \n",
              "1  City of Lost Children, The (Cité des enfants p...   \n",
              "2          Twelve Monkeys (a.k.a. 12 Monkeys) (1995)   \n",
              "3                        Seven (a.k.a. Se7en) (1995)   \n",
              "4                         Usual Suspects, The (1995)   \n",
              "\n",
              "                                   genres  \n",
              "0              Adventure|Children|Fantasy  \n",
              "1  Adventure|Drama|Fantasy|Mystery|Sci-Fi  \n",
              "2                 Mystery|Sci-Fi|Thriller  \n",
              "3                        Mystery|Thriller  \n",
              "4                  Crime|Mystery|Thriller  "
            ],
            "text/html": [
              "\n",
              "  <div id=\"df-6afce64b-e6fb-4866-ac96-c87b8f0250bf\" class=\"colab-df-container\">\n",
              "    <div>\n",
              "<style scoped>\n",
              "    .dataframe tbody tr th:only-of-type {\n",
              "        vertical-align: middle;\n",
              "    }\n",
              "\n",
              "    .dataframe tbody tr th {\n",
              "        vertical-align: top;\n",
              "    }\n",
              "\n",
              "    .dataframe thead th {\n",
              "        text-align: right;\n",
              "    }\n",
              "</style>\n",
              "<table border=\"1\" class=\"dataframe\">\n",
              "  <thead>\n",
              "    <tr style=\"text-align: right;\">\n",
              "      <th></th>\n",
              "      <th>userId</th>\n",
              "      <th>movieId</th>\n",
              "      <th>rating</th>\n",
              "      <th>timestamp</th>\n",
              "      <th>title</th>\n",
              "      <th>genres</th>\n",
              "    </tr>\n",
              "  </thead>\n",
              "  <tbody>\n",
              "    <tr>\n",
              "      <th>0</th>\n",
              "      <td>1</td>\n",
              "      <td>2</td>\n",
              "      <td>3.5</td>\n",
              "      <td>2005-04-02 23:53:47</td>\n",
              "      <td>Jumanji (1995)</td>\n",
              "      <td>Adventure|Children|Fantasy</td>\n",
              "    </tr>\n",
              "    <tr>\n",
              "      <th>1</th>\n",
              "      <td>1</td>\n",
              "      <td>29</td>\n",
              "      <td>3.5</td>\n",
              "      <td>2005-04-02 23:31:16</td>\n",
              "      <td>City of Lost Children, The (Cité des enfants p...</td>\n",
              "      <td>Adventure|Drama|Fantasy|Mystery|Sci-Fi</td>\n",
              "    </tr>\n",
              "    <tr>\n",
              "      <th>2</th>\n",
              "      <td>1</td>\n",
              "      <td>32</td>\n",
              "      <td>3.5</td>\n",
              "      <td>2005-04-02 23:33:39</td>\n",
              "      <td>Twelve Monkeys (a.k.a. 12 Monkeys) (1995)</td>\n",
              "      <td>Mystery|Sci-Fi|Thriller</td>\n",
              "    </tr>\n",
              "    <tr>\n",
              "      <th>3</th>\n",
              "      <td>1</td>\n",
              "      <td>47</td>\n",
              "      <td>3.5</td>\n",
              "      <td>2005-04-02 23:32:07</td>\n",
              "      <td>Seven (a.k.a. Se7en) (1995)</td>\n",
              "      <td>Mystery|Thriller</td>\n",
              "    </tr>\n",
              "    <tr>\n",
              "      <th>4</th>\n",
              "      <td>1</td>\n",
              "      <td>50</td>\n",
              "      <td>3.5</td>\n",
              "      <td>2005-04-02 23:29:40</td>\n",
              "      <td>Usual Suspects, The (1995)</td>\n",
              "      <td>Crime|Mystery|Thriller</td>\n",
              "    </tr>\n",
              "  </tbody>\n",
              "</table>\n",
              "</div>\n",
              "    <div class=\"colab-df-buttons\">\n",
              "\n",
              "  <div class=\"colab-df-container\">\n",
              "    <button class=\"colab-df-convert\" onclick=\"convertToInteractive('df-6afce64b-e6fb-4866-ac96-c87b8f0250bf')\"\n",
              "            title=\"Convert this dataframe to an interactive table.\"\n",
              "            style=\"display:none;\">\n",
              "\n",
              "  <svg xmlns=\"http://www.w3.org/2000/svg\" height=\"24px\" viewBox=\"0 -960 960 960\">\n",
              "    <path d=\"M120-120v-720h720v720H120Zm60-500h600v-160H180v160Zm220 220h160v-160H400v160Zm0 220h160v-160H400v160ZM180-400h160v-160H180v160Zm440 0h160v-160H620v160ZM180-180h160v-160H180v160Zm440 0h160v-160H620v160Z\"/>\n",
              "  </svg>\n",
              "    </button>\n",
              "\n",
              "  <style>\n",
              "    .colab-df-container {\n",
              "      display:flex;\n",
              "      gap: 12px;\n",
              "    }\n",
              "\n",
              "    .colab-df-convert {\n",
              "      background-color: #E8F0FE;\n",
              "      border: none;\n",
              "      border-radius: 50%;\n",
              "      cursor: pointer;\n",
              "      display: none;\n",
              "      fill: #1967D2;\n",
              "      height: 32px;\n",
              "      padding: 0 0 0 0;\n",
              "      width: 32px;\n",
              "    }\n",
              "\n",
              "    .colab-df-convert:hover {\n",
              "      background-color: #E2EBFA;\n",
              "      box-shadow: 0px 1px 2px rgba(60, 64, 67, 0.3), 0px 1px 3px 1px rgba(60, 64, 67, 0.15);\n",
              "      fill: #174EA6;\n",
              "    }\n",
              "\n",
              "    .colab-df-buttons div {\n",
              "      margin-bottom: 4px;\n",
              "    }\n",
              "\n",
              "    [theme=dark] .colab-df-convert {\n",
              "      background-color: #3B4455;\n",
              "      fill: #D2E3FC;\n",
              "    }\n",
              "\n",
              "    [theme=dark] .colab-df-convert:hover {\n",
              "      background-color: #434B5C;\n",
              "      box-shadow: 0px 1px 3px 1px rgba(0, 0, 0, 0.15);\n",
              "      filter: drop-shadow(0px 1px 2px rgba(0, 0, 0, 0.3));\n",
              "      fill: #FFFFFF;\n",
              "    }\n",
              "  </style>\n",
              "\n",
              "    <script>\n",
              "      const buttonEl =\n",
              "        document.querySelector('#df-6afce64b-e6fb-4866-ac96-c87b8f0250bf button.colab-df-convert');\n",
              "      buttonEl.style.display =\n",
              "        google.colab.kernel.accessAllowed ? 'block' : 'none';\n",
              "\n",
              "      async function convertToInteractive(key) {\n",
              "        const element = document.querySelector('#df-6afce64b-e6fb-4866-ac96-c87b8f0250bf');\n",
              "        const dataTable =\n",
              "          await google.colab.kernel.invokeFunction('convertToInteractive',\n",
              "                                                    [key], {});\n",
              "        if (!dataTable) return;\n",
              "\n",
              "        const docLinkHtml = 'Like what you see? Visit the ' +\n",
              "          '<a target=\"_blank\" href=https://colab.research.google.com/notebooks/data_table.ipynb>data table notebook</a>'\n",
              "          + ' to learn more about interactive tables.';\n",
              "        element.innerHTML = '';\n",
              "        dataTable['output_type'] = 'display_data';\n",
              "        await google.colab.output.renderOutput(dataTable, element);\n",
              "        const docLink = document.createElement('div');\n",
              "        docLink.innerHTML = docLinkHtml;\n",
              "        element.appendChild(docLink);\n",
              "      }\n",
              "    </script>\n",
              "  </div>\n",
              "\n",
              "\n",
              "<div id=\"df-686c626b-2e80-4bc1-86d3-7b69acb76230\">\n",
              "  <button class=\"colab-df-quickchart\" onclick=\"quickchart('df-686c626b-2e80-4bc1-86d3-7b69acb76230')\"\n",
              "            title=\"Suggest charts\"\n",
              "            style=\"display:none;\">\n",
              "\n",
              "<svg xmlns=\"http://www.w3.org/2000/svg\" height=\"24px\"viewBox=\"0 0 24 24\"\n",
              "     width=\"24px\">\n",
              "    <g>\n",
              "        <path d=\"M19 3H5c-1.1 0-2 .9-2 2v14c0 1.1.9 2 2 2h14c1.1 0 2-.9 2-2V5c0-1.1-.9-2-2-2zM9 17H7v-7h2v7zm4 0h-2V7h2v10zm4 0h-2v-4h2v4z\"/>\n",
              "    </g>\n",
              "</svg>\n",
              "  </button>\n",
              "\n",
              "<style>\n",
              "  .colab-df-quickchart {\n",
              "      --bg-color: #E8F0FE;\n",
              "      --fill-color: #1967D2;\n",
              "      --hover-bg-color: #E2EBFA;\n",
              "      --hover-fill-color: #174EA6;\n",
              "      --disabled-fill-color: #AAA;\n",
              "      --disabled-bg-color: #DDD;\n",
              "  }\n",
              "\n",
              "  [theme=dark] .colab-df-quickchart {\n",
              "      --bg-color: #3B4455;\n",
              "      --fill-color: #D2E3FC;\n",
              "      --hover-bg-color: #434B5C;\n",
              "      --hover-fill-color: #FFFFFF;\n",
              "      --disabled-bg-color: #3B4455;\n",
              "      --disabled-fill-color: #666;\n",
              "  }\n",
              "\n",
              "  .colab-df-quickchart {\n",
              "    background-color: var(--bg-color);\n",
              "    border: none;\n",
              "    border-radius: 50%;\n",
              "    cursor: pointer;\n",
              "    display: none;\n",
              "    fill: var(--fill-color);\n",
              "    height: 32px;\n",
              "    padding: 0;\n",
              "    width: 32px;\n",
              "  }\n",
              "\n",
              "  .colab-df-quickchart:hover {\n",
              "    background-color: var(--hover-bg-color);\n",
              "    box-shadow: 0 1px 2px rgba(60, 64, 67, 0.3), 0 1px 3px 1px rgba(60, 64, 67, 0.15);\n",
              "    fill: var(--button-hover-fill-color);\n",
              "  }\n",
              "\n",
              "  .colab-df-quickchart-complete:disabled,\n",
              "  .colab-df-quickchart-complete:disabled:hover {\n",
              "    background-color: var(--disabled-bg-color);\n",
              "    fill: var(--disabled-fill-color);\n",
              "    box-shadow: none;\n",
              "  }\n",
              "\n",
              "  .colab-df-spinner {\n",
              "    border: 2px solid var(--fill-color);\n",
              "    border-color: transparent;\n",
              "    border-bottom-color: var(--fill-color);\n",
              "    animation:\n",
              "      spin 1s steps(1) infinite;\n",
              "  }\n",
              "\n",
              "  @keyframes spin {\n",
              "    0% {\n",
              "      border-color: transparent;\n",
              "      border-bottom-color: var(--fill-color);\n",
              "      border-left-color: var(--fill-color);\n",
              "    }\n",
              "    20% {\n",
              "      border-color: transparent;\n",
              "      border-left-color: var(--fill-color);\n",
              "      border-top-color: var(--fill-color);\n",
              "    }\n",
              "    30% {\n",
              "      border-color: transparent;\n",
              "      border-left-color: var(--fill-color);\n",
              "      border-top-color: var(--fill-color);\n",
              "      border-right-color: var(--fill-color);\n",
              "    }\n",
              "    40% {\n",
              "      border-color: transparent;\n",
              "      border-right-color: var(--fill-color);\n",
              "      border-top-color: var(--fill-color);\n",
              "    }\n",
              "    60% {\n",
              "      border-color: transparent;\n",
              "      border-right-color: var(--fill-color);\n",
              "    }\n",
              "    80% {\n",
              "      border-color: transparent;\n",
              "      border-right-color: var(--fill-color);\n",
              "      border-bottom-color: var(--fill-color);\n",
              "    }\n",
              "    90% {\n",
              "      border-color: transparent;\n",
              "      border-bottom-color: var(--fill-color);\n",
              "    }\n",
              "  }\n",
              "</style>\n",
              "\n",
              "  <script>\n",
              "    async function quickchart(key) {\n",
              "      const quickchartButtonEl =\n",
              "        document.querySelector('#' + key + ' button');\n",
              "      quickchartButtonEl.disabled = true;  // To prevent multiple clicks.\n",
              "      quickchartButtonEl.classList.add('colab-df-spinner');\n",
              "      try {\n",
              "        const charts = await google.colab.kernel.invokeFunction(\n",
              "            'suggestCharts', [key], {});\n",
              "      } catch (error) {\n",
              "        console.error('Error during call to suggestCharts:', error);\n",
              "      }\n",
              "      quickchartButtonEl.classList.remove('colab-df-spinner');\n",
              "      quickchartButtonEl.classList.add('colab-df-quickchart-complete');\n",
              "    }\n",
              "    (() => {\n",
              "      let quickchartButtonEl =\n",
              "        document.querySelector('#df-686c626b-2e80-4bc1-86d3-7b69acb76230 button');\n",
              "      quickchartButtonEl.style.display =\n",
              "        google.colab.kernel.accessAllowed ? 'block' : 'none';\n",
              "    })();\n",
              "  </script>\n",
              "</div>\n",
              "\n",
              "    </div>\n",
              "  </div>\n"
            ],
            "application/vnd.google.colaboratory.intrinsic+json": {
              "type": "dataframe",
              "variable_name": "data"
            }
          },
          "metadata": {},
          "execution_count": 5
        }
      ],
      "source": [
        "import pandas as pd\n",
        "import numpy as np\n",
        "from sklearn.model_selection import train_test_split\n",
        "from sklearn.preprocessing import LabelEncoder\n",
        "from surprise import Dataset, Reader, SVD\n",
        "from surprise.model_selection import cross_validate\n",
        "import faiss\n",
        "import shap\n",
        "import matplotlib.pyplot as plt\n",
        "\n",
        "# Load MovieLens data\n",
        "movies = pd.read_csv('/content/movie.csv')\n",
        "ratings = pd.read_csv('/content/rating.csv')\n",
        "\n",
        "# Merge data for ease of use\n",
        "data = pd.merge(ratings, movies, on='movieId')\n",
        "data.head()\n"
      ]
    },
    {
      "cell_type": "code",
      "source": [
        "\n",
        "data = data.dropna()\n",
        "\n",
        "user_encoder = LabelEncoder()\n",
        "item_encoder = LabelEncoder()\n",
        "\n",
        "data['userId_encoded'] = user_encoder.fit_transform(data['userId'])\n",
        "data['movieId_encoded'] = item_encoder.fit_transform(data['movieId'])\n",
        "data.head()"
      ],
      "metadata": {
        "colab": {
          "base_uri": "https://localhost:8080/",
          "height": 293
        },
        "id": "9zsdVmb33lxw",
        "outputId": "f17c1d7a-144c-43e0-984a-9c822be5f373"
      },
      "execution_count": 6,
      "outputs": [
        {
          "output_type": "execute_result",
          "data": {
            "text/plain": [
              "   userId  movieId  rating            timestamp  \\\n",
              "0       1        2     3.5  2005-04-02 23:53:47   \n",
              "1       1       29     3.5  2005-04-02 23:31:16   \n",
              "2       1       32     3.5  2005-04-02 23:33:39   \n",
              "3       1       47     3.5  2005-04-02 23:32:07   \n",
              "4       1       50     3.5  2005-04-02 23:29:40   \n",
              "\n",
              "                                               title  \\\n",
              "0                                     Jumanji (1995)   \n",
              "1  City of Lost Children, The (Cité des enfants p...   \n",
              "2          Twelve Monkeys (a.k.a. 12 Monkeys) (1995)   \n",
              "3                        Seven (a.k.a. Se7en) (1995)   \n",
              "4                         Usual Suspects, The (1995)   \n",
              "\n",
              "                                   genres  userId_encoded  movieId_encoded  \n",
              "0              Adventure|Children|Fantasy               0                1  \n",
              "1  Adventure|Drama|Fantasy|Mystery|Sci-Fi               0               28  \n",
              "2                 Mystery|Sci-Fi|Thriller               0               31  \n",
              "3                        Mystery|Thriller               0               46  \n",
              "4                  Crime|Mystery|Thriller               0               49  "
            ],
            "text/html": [
              "\n",
              "  <div id=\"df-62deef3c-2a76-4b81-be81-5837bfc2dc32\" class=\"colab-df-container\">\n",
              "    <div>\n",
              "<style scoped>\n",
              "    .dataframe tbody tr th:only-of-type {\n",
              "        vertical-align: middle;\n",
              "    }\n",
              "\n",
              "    .dataframe tbody tr th {\n",
              "        vertical-align: top;\n",
              "    }\n",
              "\n",
              "    .dataframe thead th {\n",
              "        text-align: right;\n",
              "    }\n",
              "</style>\n",
              "<table border=\"1\" class=\"dataframe\">\n",
              "  <thead>\n",
              "    <tr style=\"text-align: right;\">\n",
              "      <th></th>\n",
              "      <th>userId</th>\n",
              "      <th>movieId</th>\n",
              "      <th>rating</th>\n",
              "      <th>timestamp</th>\n",
              "      <th>title</th>\n",
              "      <th>genres</th>\n",
              "      <th>userId_encoded</th>\n",
              "      <th>movieId_encoded</th>\n",
              "    </tr>\n",
              "  </thead>\n",
              "  <tbody>\n",
              "    <tr>\n",
              "      <th>0</th>\n",
              "      <td>1</td>\n",
              "      <td>2</td>\n",
              "      <td>3.5</td>\n",
              "      <td>2005-04-02 23:53:47</td>\n",
              "      <td>Jumanji (1995)</td>\n",
              "      <td>Adventure|Children|Fantasy</td>\n",
              "      <td>0</td>\n",
              "      <td>1</td>\n",
              "    </tr>\n",
              "    <tr>\n",
              "      <th>1</th>\n",
              "      <td>1</td>\n",
              "      <td>29</td>\n",
              "      <td>3.5</td>\n",
              "      <td>2005-04-02 23:31:16</td>\n",
              "      <td>City of Lost Children, The (Cité des enfants p...</td>\n",
              "      <td>Adventure|Drama|Fantasy|Mystery|Sci-Fi</td>\n",
              "      <td>0</td>\n",
              "      <td>28</td>\n",
              "    </tr>\n",
              "    <tr>\n",
              "      <th>2</th>\n",
              "      <td>1</td>\n",
              "      <td>32</td>\n",
              "      <td>3.5</td>\n",
              "      <td>2005-04-02 23:33:39</td>\n",
              "      <td>Twelve Monkeys (a.k.a. 12 Monkeys) (1995)</td>\n",
              "      <td>Mystery|Sci-Fi|Thriller</td>\n",
              "      <td>0</td>\n",
              "      <td>31</td>\n",
              "    </tr>\n",
              "    <tr>\n",
              "      <th>3</th>\n",
              "      <td>1</td>\n",
              "      <td>47</td>\n",
              "      <td>3.5</td>\n",
              "      <td>2005-04-02 23:32:07</td>\n",
              "      <td>Seven (a.k.a. Se7en) (1995)</td>\n",
              "      <td>Mystery|Thriller</td>\n",
              "      <td>0</td>\n",
              "      <td>46</td>\n",
              "    </tr>\n",
              "    <tr>\n",
              "      <th>4</th>\n",
              "      <td>1</td>\n",
              "      <td>50</td>\n",
              "      <td>3.5</td>\n",
              "      <td>2005-04-02 23:29:40</td>\n",
              "      <td>Usual Suspects, The (1995)</td>\n",
              "      <td>Crime|Mystery|Thriller</td>\n",
              "      <td>0</td>\n",
              "      <td>49</td>\n",
              "    </tr>\n",
              "  </tbody>\n",
              "</table>\n",
              "</div>\n",
              "    <div class=\"colab-df-buttons\">\n",
              "\n",
              "  <div class=\"colab-df-container\">\n",
              "    <button class=\"colab-df-convert\" onclick=\"convertToInteractive('df-62deef3c-2a76-4b81-be81-5837bfc2dc32')\"\n",
              "            title=\"Convert this dataframe to an interactive table.\"\n",
              "            style=\"display:none;\">\n",
              "\n",
              "  <svg xmlns=\"http://www.w3.org/2000/svg\" height=\"24px\" viewBox=\"0 -960 960 960\">\n",
              "    <path d=\"M120-120v-720h720v720H120Zm60-500h600v-160H180v160Zm220 220h160v-160H400v160Zm0 220h160v-160H400v160ZM180-400h160v-160H180v160Zm440 0h160v-160H620v160ZM180-180h160v-160H180v160Zm440 0h160v-160H620v160Z\"/>\n",
              "  </svg>\n",
              "    </button>\n",
              "\n",
              "  <style>\n",
              "    .colab-df-container {\n",
              "      display:flex;\n",
              "      gap: 12px;\n",
              "    }\n",
              "\n",
              "    .colab-df-convert {\n",
              "      background-color: #E8F0FE;\n",
              "      border: none;\n",
              "      border-radius: 50%;\n",
              "      cursor: pointer;\n",
              "      display: none;\n",
              "      fill: #1967D2;\n",
              "      height: 32px;\n",
              "      padding: 0 0 0 0;\n",
              "      width: 32px;\n",
              "    }\n",
              "\n",
              "    .colab-df-convert:hover {\n",
              "      background-color: #E2EBFA;\n",
              "      box-shadow: 0px 1px 2px rgba(60, 64, 67, 0.3), 0px 1px 3px 1px rgba(60, 64, 67, 0.15);\n",
              "      fill: #174EA6;\n",
              "    }\n",
              "\n",
              "    .colab-df-buttons div {\n",
              "      margin-bottom: 4px;\n",
              "    }\n",
              "\n",
              "    [theme=dark] .colab-df-convert {\n",
              "      background-color: #3B4455;\n",
              "      fill: #D2E3FC;\n",
              "    }\n",
              "\n",
              "    [theme=dark] .colab-df-convert:hover {\n",
              "      background-color: #434B5C;\n",
              "      box-shadow: 0px 1px 3px 1px rgba(0, 0, 0, 0.15);\n",
              "      filter: drop-shadow(0px 1px 2px rgba(0, 0, 0, 0.3));\n",
              "      fill: #FFFFFF;\n",
              "    }\n",
              "  </style>\n",
              "\n",
              "    <script>\n",
              "      const buttonEl =\n",
              "        document.querySelector('#df-62deef3c-2a76-4b81-be81-5837bfc2dc32 button.colab-df-convert');\n",
              "      buttonEl.style.display =\n",
              "        google.colab.kernel.accessAllowed ? 'block' : 'none';\n",
              "\n",
              "      async function convertToInteractive(key) {\n",
              "        const element = document.querySelector('#df-62deef3c-2a76-4b81-be81-5837bfc2dc32');\n",
              "        const dataTable =\n",
              "          await google.colab.kernel.invokeFunction('convertToInteractive',\n",
              "                                                    [key], {});\n",
              "        if (!dataTable) return;\n",
              "\n",
              "        const docLinkHtml = 'Like what you see? Visit the ' +\n",
              "          '<a target=\"_blank\" href=https://colab.research.google.com/notebooks/data_table.ipynb>data table notebook</a>'\n",
              "          + ' to learn more about interactive tables.';\n",
              "        element.innerHTML = '';\n",
              "        dataTable['output_type'] = 'display_data';\n",
              "        await google.colab.output.renderOutput(dataTable, element);\n",
              "        const docLink = document.createElement('div');\n",
              "        docLink.innerHTML = docLinkHtml;\n",
              "        element.appendChild(docLink);\n",
              "      }\n",
              "    </script>\n",
              "  </div>\n",
              "\n",
              "\n",
              "<div id=\"df-aa9a74d9-6203-4d02-a72f-3f7572b83a7d\">\n",
              "  <button class=\"colab-df-quickchart\" onclick=\"quickchart('df-aa9a74d9-6203-4d02-a72f-3f7572b83a7d')\"\n",
              "            title=\"Suggest charts\"\n",
              "            style=\"display:none;\">\n",
              "\n",
              "<svg xmlns=\"http://www.w3.org/2000/svg\" height=\"24px\"viewBox=\"0 0 24 24\"\n",
              "     width=\"24px\">\n",
              "    <g>\n",
              "        <path d=\"M19 3H5c-1.1 0-2 .9-2 2v14c0 1.1.9 2 2 2h14c1.1 0 2-.9 2-2V5c0-1.1-.9-2-2-2zM9 17H7v-7h2v7zm4 0h-2V7h2v10zm4 0h-2v-4h2v4z\"/>\n",
              "    </g>\n",
              "</svg>\n",
              "  </button>\n",
              "\n",
              "<style>\n",
              "  .colab-df-quickchart {\n",
              "      --bg-color: #E8F0FE;\n",
              "      --fill-color: #1967D2;\n",
              "      --hover-bg-color: #E2EBFA;\n",
              "      --hover-fill-color: #174EA6;\n",
              "      --disabled-fill-color: #AAA;\n",
              "      --disabled-bg-color: #DDD;\n",
              "  }\n",
              "\n",
              "  [theme=dark] .colab-df-quickchart {\n",
              "      --bg-color: #3B4455;\n",
              "      --fill-color: #D2E3FC;\n",
              "      --hover-bg-color: #434B5C;\n",
              "      --hover-fill-color: #FFFFFF;\n",
              "      --disabled-bg-color: #3B4455;\n",
              "      --disabled-fill-color: #666;\n",
              "  }\n",
              "\n",
              "  .colab-df-quickchart {\n",
              "    background-color: var(--bg-color);\n",
              "    border: none;\n",
              "    border-radius: 50%;\n",
              "    cursor: pointer;\n",
              "    display: none;\n",
              "    fill: var(--fill-color);\n",
              "    height: 32px;\n",
              "    padding: 0;\n",
              "    width: 32px;\n",
              "  }\n",
              "\n",
              "  .colab-df-quickchart:hover {\n",
              "    background-color: var(--hover-bg-color);\n",
              "    box-shadow: 0 1px 2px rgba(60, 64, 67, 0.3), 0 1px 3px 1px rgba(60, 64, 67, 0.15);\n",
              "    fill: var(--button-hover-fill-color);\n",
              "  }\n",
              "\n",
              "  .colab-df-quickchart-complete:disabled,\n",
              "  .colab-df-quickchart-complete:disabled:hover {\n",
              "    background-color: var(--disabled-bg-color);\n",
              "    fill: var(--disabled-fill-color);\n",
              "    box-shadow: none;\n",
              "  }\n",
              "\n",
              "  .colab-df-spinner {\n",
              "    border: 2px solid var(--fill-color);\n",
              "    border-color: transparent;\n",
              "    border-bottom-color: var(--fill-color);\n",
              "    animation:\n",
              "      spin 1s steps(1) infinite;\n",
              "  }\n",
              "\n",
              "  @keyframes spin {\n",
              "    0% {\n",
              "      border-color: transparent;\n",
              "      border-bottom-color: var(--fill-color);\n",
              "      border-left-color: var(--fill-color);\n",
              "    }\n",
              "    20% {\n",
              "      border-color: transparent;\n",
              "      border-left-color: var(--fill-color);\n",
              "      border-top-color: var(--fill-color);\n",
              "    }\n",
              "    30% {\n",
              "      border-color: transparent;\n",
              "      border-left-color: var(--fill-color);\n",
              "      border-top-color: var(--fill-color);\n",
              "      border-right-color: var(--fill-color);\n",
              "    }\n",
              "    40% {\n",
              "      border-color: transparent;\n",
              "      border-right-color: var(--fill-color);\n",
              "      border-top-color: var(--fill-color);\n",
              "    }\n",
              "    60% {\n",
              "      border-color: transparent;\n",
              "      border-right-color: var(--fill-color);\n",
              "    }\n",
              "    80% {\n",
              "      border-color: transparent;\n",
              "      border-right-color: var(--fill-color);\n",
              "      border-bottom-color: var(--fill-color);\n",
              "    }\n",
              "    90% {\n",
              "      border-color: transparent;\n",
              "      border-bottom-color: var(--fill-color);\n",
              "    }\n",
              "  }\n",
              "</style>\n",
              "\n",
              "  <script>\n",
              "    async function quickchart(key) {\n",
              "      const quickchartButtonEl =\n",
              "        document.querySelector('#' + key + ' button');\n",
              "      quickchartButtonEl.disabled = true;  // To prevent multiple clicks.\n",
              "      quickchartButtonEl.classList.add('colab-df-spinner');\n",
              "      try {\n",
              "        const charts = await google.colab.kernel.invokeFunction(\n",
              "            'suggestCharts', [key], {});\n",
              "      } catch (error) {\n",
              "        console.error('Error during call to suggestCharts:', error);\n",
              "      }\n",
              "      quickchartButtonEl.classList.remove('colab-df-spinner');\n",
              "      quickchartButtonEl.classList.add('colab-df-quickchart-complete');\n",
              "    }\n",
              "    (() => {\n",
              "      let quickchartButtonEl =\n",
              "        document.querySelector('#df-aa9a74d9-6203-4d02-a72f-3f7572b83a7d button');\n",
              "      quickchartButtonEl.style.display =\n",
              "        google.colab.kernel.accessAllowed ? 'block' : 'none';\n",
              "    })();\n",
              "  </script>\n",
              "</div>\n",
              "\n",
              "    </div>\n",
              "  </div>\n"
            ],
            "application/vnd.google.colaboratory.intrinsic+json": {
              "type": "dataframe",
              "variable_name": "data"
            }
          },
          "metadata": {},
          "execution_count": 6
        }
      ]
    },
    {
      "cell_type": "code",
      "source": [
        "data['timestamp'] = pd.to_datetime(data['timestamp'])\n",
        "\n",
        "data['date'] = data['timestamp'].dt.date\n",
        "data['time'] = data['timestamp'].dt.time\n",
        "\n",
        "print(data[['userId', 'movieId', 'rating', 'timestamp', 'date', 'time']].head())\n"
      ],
      "metadata": {
        "colab": {
          "base_uri": "https://localhost:8080/"
        },
        "id": "spQGkyNe5KZ-",
        "outputId": "dca4664d-06d6-4dc5-f63f-e4af33d03a3b"
      },
      "execution_count": 7,
      "outputs": [
        {
          "output_type": "stream",
          "name": "stdout",
          "text": [
            "   userId  movieId  rating           timestamp        date      time\n",
            "0       1        2     3.5 2005-04-02 23:53:47  2005-04-02  23:53:47\n",
            "1       1       29     3.5 2005-04-02 23:31:16  2005-04-02  23:31:16\n",
            "2       1       32     3.5 2005-04-02 23:33:39  2005-04-02  23:33:39\n",
            "3       1       47     3.5 2005-04-02 23:32:07  2005-04-02  23:32:07\n",
            "4       1       50     3.5 2005-04-02 23:29:40  2005-04-02  23:29:40\n"
          ]
        }
      ]
    },
    {
      "cell_type": "code",
      "source": [
        "data['date'] = pd.to_datetime(data['date'])\n",
        "\n",
        "data['recency'] = (data['date'].max() - data['date']).dt.days\n",
        "\n",
        "print(data[['userId', 'movieId', 'recency']].head())\n"
      ],
      "metadata": {
        "colab": {
          "base_uri": "https://localhost:8080/"
        },
        "id": "GpOdCN8N-Idi",
        "outputId": "ec2ca17b-56b0-4883-cd03-d572139f5437"
      },
      "execution_count": 8,
      "outputs": [
        {
          "output_type": "stream",
          "name": "stdout",
          "text": [
            "   userId  movieId  recency\n",
            "0       1        2     3650\n",
            "1       1       29     3650\n",
            "2       1       32     3650\n",
            "3       1       47     3650\n",
            "4       1       50     3650\n"
          ]
        }
      ]
    },
    {
      "cell_type": "code",
      "source": [
        "data['recency'] = data['recency'] / data['recency'].max()\n",
        "\n",
        "print(data[['userId', 'movieId', 'recency']].head())\n"
      ],
      "metadata": {
        "colab": {
          "base_uri": "https://localhost:8080/"
        },
        "id": "scOVqht2_38g",
        "outputId": "1837e0ec-0d08-4bb0-9dd0-13926f6695bd"
      },
      "execution_count": 9,
      "outputs": [
        {
          "output_type": "stream",
          "name": "stdout",
          "text": [
            "   userId  movieId   recency\n",
            "0       1        2  0.522399\n",
            "1       1       29  0.522399\n",
            "2       1       32  0.522399\n",
            "3       1       47  0.522399\n",
            "4       1       50  0.522399\n"
          ]
        }
      ]
    },
    {
      "cell_type": "code",
      "source": [
        "user_freq = data.groupby('userId')['movieId'].count().reset_index().rename(columns={'movieId': 'frequency'})\n",
        "\n",
        "data = pd.merge(data, user_freq[['userId', 'frequency']], on='userId', how='left')\n",
        "\n",
        "print(data[['userId', 'movieId', 'recency', 'frequency']].head())\n"
      ],
      "metadata": {
        "colab": {
          "base_uri": "https://localhost:8080/"
        },
        "id": "86A6wa-pA5Lv",
        "outputId": "59a45c0a-2ec3-4791-9f22-b68aba33441a"
      },
      "execution_count": 10,
      "outputs": [
        {
          "output_type": "stream",
          "name": "stdout",
          "text": [
            "   userId  movieId   recency  frequency\n",
            "0       1        2  0.522399        175\n",
            "1       1       29  0.522399        175\n",
            "2       1       32  0.522399        175\n",
            "3       1       47  0.522399        175\n",
            "4       1       50  0.522399        175\n"
          ]
        }
      ]
    },
    {
      "cell_type": "code",
      "source": [
        "data['frequency'] = data['frequency'] / data['frequency'].max()\n",
        "\n",
        "print(data[['userId', 'movieId', 'recency', 'frequency']].head())\n"
      ],
      "metadata": {
        "colab": {
          "base_uri": "https://localhost:8080/"
        },
        "id": "vO1E0UQlBKsY",
        "outputId": "22fd812a-58d4-4935-ac40-d4fa9915377c"
      },
      "execution_count": 11,
      "outputs": [
        {
          "output_type": "stream",
          "name": "stdout",
          "text": [
            "   userId  movieId   recency  frequency\n",
            "0       1        2  0.522399   0.023287\n",
            "1       1       29  0.522399   0.023287\n",
            "2       1       32  0.522399   0.023287\n",
            "3       1       47  0.522399   0.023287\n",
            "4       1       50  0.522399   0.023287\n"
          ]
        }
      ]
    },
    {
      "cell_type": "code",
      "source": [
        "data['recency_frequency'] = data['recency'] * data['frequency']\n",
        "\n",
        "print(data[['userId', 'movieId', 'recency', 'frequency', 'recency_frequency']].head())\n",
        "\n"
      ],
      "metadata": {
        "colab": {
          "base_uri": "https://localhost:8080/"
        },
        "id": "R3sMnT4FB9bA",
        "outputId": "eb9d7677-76c1-4bfc-cfc1-d1444271632a"
      },
      "execution_count": 12,
      "outputs": [
        {
          "output_type": "stream",
          "name": "stdout",
          "text": [
            "   userId  movieId   recency  frequency  recency_frequency\n",
            "0       1        2  0.522399   0.023287           0.012165\n",
            "1       1       29  0.522399   0.023287           0.012165\n",
            "2       1       32  0.522399   0.023287           0.012165\n",
            "3       1       47  0.522399   0.023287           0.012165\n",
            "4       1       50  0.522399   0.023287           0.012165\n"
          ]
        }
      ]
    },
    {
      "cell_type": "code",
      "source": [
        "from surprise import Dataset, Reader, SVD\n",
        "from surprise.model_selection import train_test_split\n",
        "from surprise import accuracy\n",
        "\n",
        "reader = Reader(rating_scale=(0, 5))\n",
        "data_surprise = Dataset.load_from_df(data[['userId', 'movieId', 'rating']], reader)\n",
        "\n",
        "trainset, testset = train_test_split(data_surprise, test_size=0.2)\n",
        "\n",
        "svd = SVD()\n",
        "\n",
        "svd.fit(trainset)\n",
        "\n",
        "predictions = svd.test(testset)\n",
        "\n",
        "rmse = accuracy.rmse(predictions)\n",
        "print(f\"RMSE: {rmse}\")\n"
      ],
      "metadata": {
        "colab": {
          "base_uri": "https://localhost:8080/"
        },
        "id": "rwXHtkkcCxlu",
        "outputId": "162a1a95-d3de-4d60-c27f-40b92b233d3c"
      },
      "execution_count": 13,
      "outputs": [
        {
          "output_type": "stream",
          "name": "stdout",
          "text": [
            "RMSE: 0.8126\n",
            "RMSE: 0.8125537157950813\n"
          ]
        }
      ]
    },
    {
      "cell_type": "code",
      "source": [
        "from surprise import accuracy\n",
        "accuracy.rmse(predictions)\n",
        "\n",
        "\n"
      ],
      "metadata": {
        "colab": {
          "base_uri": "https://localhost:8080/"
        },
        "id": "XW1ohQTGC0CW",
        "outputId": "aa43895f-0074-4104-c636-9f0a1450a4ad"
      },
      "execution_count": 14,
      "outputs": [
        {
          "output_type": "stream",
          "name": "stdout",
          "text": [
            "RMSE: 0.8126\n"
          ]
        },
        {
          "output_type": "execute_result",
          "data": {
            "text/plain": [
              "0.8125537157950813"
            ]
          },
          "metadata": {},
          "execution_count": 14
        }
      ]
    },
    {
      "cell_type": "code",
      "source": [
        "user_id = 1\n",
        "movie_id = 10\n",
        "predicted_rating = svd.predict(user_id, movie_id)\n",
        "print(f\"Predicted rating for user {user_id} and movie {movie_id}: {predicted_rating.est}\")\n"
      ],
      "metadata": {
        "colab": {
          "base_uri": "https://localhost:8080/"
        },
        "id": "pAlsJzcwFQ1q",
        "outputId": "29a91a18-2916-4d40-9fb5-e3ec3314f521"
      },
      "execution_count": 15,
      "outputs": [
        {
          "output_type": "stream",
          "name": "stdout",
          "text": [
            "Predicted rating for user 1 and movie 10: 3.6495419353561367\n"
          ]
        }
      ]
    },
    {
      "cell_type": "code",
      "source": [
        "\n",
        "\n",
        "def apply_recency_boost(recommendation_scores, user_id):\n",
        "    # Get the recency of the user\n",
        "    user_recency = data[data['userId'] == user_id]['recency'].max()\n",
        "    boosted_scores = recommendation_scores * (1 + user_recency)\n",
        "    return boosted_scores\n",
        "\n",
        "\n",
        "user_id = 1\n",
        "recommendation_scores = np.random.rand(10)\n",
        "boosted_scores = apply_recency_boost(recommendation_scores, user_id)\n",
        "print(boosted_scores)\n"
      ],
      "metadata": {
        "colab": {
          "base_uri": "https://localhost:8080/"
        },
        "id": "FMZWX1fcGRp8",
        "outputId": "d63fd605-5301-4c17-aca5-3117507ce0e0"
      },
      "execution_count": 16,
      "outputs": [
        {
          "output_type": "stream",
          "name": "stdout",
          "text": [
            "[1.24753212 0.43041783 0.75253164 0.59589659 0.84953173 0.52932359\n",
            " 0.50888999 1.28887162 0.02306404 0.83925919]\n"
          ]
        }
      ]
    },
    {
      "cell_type": "code",
      "source": [
        "data.columns"
      ],
      "metadata": {
        "colab": {
          "base_uri": "https://localhost:8080/"
        },
        "id": "ZMih74SqHL1C",
        "outputId": "066911ac-5c0e-434b-f897-c0e2e4d8bba1"
      },
      "execution_count": 19,
      "outputs": [
        {
          "output_type": "execute_result",
          "data": {
            "text/plain": [
              "Index(['userId', 'movieId', 'rating', 'timestamp', 'title', 'genres',\n",
              "       'userId_encoded', 'movieId_encoded', 'date', 'time', 'recency',\n",
              "       'frequency', 'recency_frequency'],\n",
              "      dtype='object')"
            ]
          },
          "metadata": {},
          "execution_count": 19
        }
      ]
    },
    {
      "cell_type": "code",
      "source": [
        "from sklearn.cluster import KMeans\n",
        "\n",
        "\n",
        "user_data = data[['userId', 'recency', 'frequency']].dropna()\n",
        "\n",
        "kmeans = KMeans(n_clusters=3, random_state=42)\n",
        "user_data['cluster'] = kmeans.fit_predict(user_data[['recency', 'frequency']])\n",
        "\n",
        "print(user_data.head())\n"
      ],
      "metadata": {
        "colab": {
          "base_uri": "https://localhost:8080/"
        },
        "id": "ken9y4h7HB8P",
        "outputId": "478653b8-efa4-44d4-944f-3372f8587eca"
      },
      "execution_count": 20,
      "outputs": [
        {
          "output_type": "stream",
          "name": "stdout",
          "text": [
            "   userId   recency  frequency  cluster\n",
            "0       1  0.522399   0.023287        0\n",
            "1       1  0.522399   0.023287        0\n",
            "2       1  0.522399   0.023287        0\n",
            "3       1  0.522399   0.023287        0\n",
            "4       1  0.522399   0.023287        0\n"
          ]
        }
      ]
    },
    {
      "cell_type": "code",
      "source": [],
      "metadata": {
        "id": "Bv8G7EwQHFE5"
      },
      "execution_count": 25,
      "outputs": []
    },
    {
      "cell_type": "code",
      "source": [
        "import faiss\n",
        "import numpy as np\n",
        "\n",
        "vectors = np.random.random((1000, 128)).astype('float32')\n",
        "\n",
        "index = faiss.IndexFlatL2(128)\n",
        "index.add(vectors)\n",
        "\n",
        "query_vector = np.random.random((1, 128)).astype('float32')\n",
        "D, I = index.search(query_vector, 5)\n",
        "\n",
        "print(f\"Indices of top 5 similar items: {I}\")\n",
        "print(f\"Distances of top 5 similar items: {D}\")\n"
      ],
      "metadata": {
        "colab": {
          "base_uri": "https://localhost:8080/"
        },
        "id": "OVeYN0e8Hn5u",
        "outputId": "a592773c-d827-4ee6-c36c-12a97ac0ba11"
      },
      "execution_count": 22,
      "outputs": [
        {
          "output_type": "stream",
          "name": "stdout",
          "text": [
            "Indices of top 5 similar items: [[239 684 179 355 883]]\n",
            "Distances of top 5 similar items: [[14.919945 15.056761 15.424654 15.716432 15.876038]]\n"
          ]
        }
      ]
    },
    {
      "cell_type": "code",
      "source": [
        "import pandas as pd\n",
        "from sklearn.cluster import KMeans\n",
        "from sklearn.preprocessing import StandardScaler\n",
        "\n",
        "\n",
        "\n",
        "if 'recency' not in data.columns or 'frequency' not in data.columns:\n",
        "    raise ValueError(\"Data must include 'recency' and 'frequency' columns\")\n",
        "\n",
        "scaler = StandardScaler()\n",
        "data[['recency', 'frequency']] = scaler.fit_transform(data[['recency', 'frequency']])\n",
        "\n",
        "kmeans = KMeans(n_clusters=3, random_state=42)\n",
        "data['cluster'] = kmeans.fit_predict(data[['recency', 'frequency']])\n",
        "\n",
        "def recommend_movies(user_id):\n",
        "    if user_id not in data['userId'].unique():\n",
        "        print(f\"User with ID {user_id} not found.\")\n",
        "        return\n",
        "\n",
        "    user_cluster = data[data['userId'] == user_id]['cluster'].iloc[0]\n",
        "\n",
        "    cluster_movies = data[data['cluster'] == user_cluster]\n",
        "\n",
        "    recommended_movies = cluster_movies.groupby('title').size().reset_index(name='count')\n",
        "    recommended_movies = recommended_movies.sort_values('count', ascending=False)\n",
        "\n",
        "    print(f\"Recommended movies for user {user_id}:\")\n",
        "    print(recommended_movies[['title', 'count']])\n",
        "\n",
        "user_id_input = int(input(\"Enter your userId: \"))\n",
        "\n",
        "recommend_movies(user_id_input)\n"
      ],
      "metadata": {
        "colab": {
          "base_uri": "https://localhost:8080/"
        },
        "id": "nGKnDdQXHwUT",
        "outputId": "5f204307-7a74-4d5f-bb80-686ed2811675"
      },
      "execution_count": 25,
      "outputs": [
        {
          "output_type": "stream",
          "name": "stdout",
          "text": [
            "Enter your userId: 1\n",
            "Recommended movies for user 1:\n",
            "                                     title  count\n",
            "9087                    Matrix, The (1999)   4482\n",
            "12460     Shawshank Redemption, The (1994)   4213\n",
            "4996                     Fight Club (1999)   4053\n",
            "5263                   Forrest Gump (1994)   4046\n",
            "11266                  Pulp Fiction (1994)   4039\n",
            "...                                    ...    ...\n",
            "4549                        Endgame (2009)      1\n",
            "4554                      Endurance (1999)      1\n",
            "4564                      Enfer, L' (1994)      1\n",
            "4503   Emigrants, The (Utvandrarna) (1971)      1\n",
            "4504              Emil i Lönneberga (1971)      1\n",
            "\n",
            "[15775 rows x 2 columns]\n"
          ]
        }
      ]
    },
    {
      "cell_type": "code",
      "source": [
        "import pandas as pd\n",
        "from sklearn.cluster import KMeans\n",
        "from sklearn.preprocessing import StandardScaler\n",
        "import numpy as np\n",
        "\n",
        "\n",
        "if 'recency' not in data.columns or 'frequency' not in data.columns:\n",
        "    raise ValueError(\"Data must include 'recency' and 'frequency' columns\")\n",
        "\n",
        "scaler = StandardScaler()\n",
        "data[['recency', 'frequency']] = scaler.fit_transform(data[['recency', 'frequency']])\n",
        "\n",
        "kmeans = KMeans(n_clusters=5, random_state=42)\n",
        "data['cluster'] = kmeans.fit_predict(data[['recency', 'frequency']])\n",
        "\n",
        "def encode_genres(data):\n",
        "    genres = data['genres'].str.split('|', expand=True).stack().unique()\n",
        "    genre_dict = {genre: i for i, genre in enumerate(genres)}\n",
        "    return genre_dict\n",
        "\n",
        "genre_dict = encode_genres(data)\n",
        "def genre_vectorize(row, genre_dict):\n",
        "    genres = row.split('|')\n",
        "    genre_vector = np.zeros(len(genre_dict))\n",
        "    for genre in genres:\n",
        "        genre_vector[genre_dict[genre]] = 1\n",
        "    return genre_vector\n",
        "\n",
        "data['genre_vector'] = data['genres'].apply(genre_vectorize, args=(genre_dict,))\n",
        "\n",
        "data['combined_features'] = data.apply(lambda row: np.concatenate([row['genre_vector'], [row['recency'], row['frequency']]]), axis=1)\n",
        "\n",
        "def recommend_movies(user_id):\n",
        "    if user_id not in data['userId'].unique():\n",
        "        print(f\"User with ID {user_id} not found.\")\n",
        "        return\n",
        "\n",
        "    user_cluster = data[data['userId'] == user_id]['cluster'].iloc[0]\n",
        "\n",
        "    cluster_movies = data[data['cluster'] == user_cluster]\n",
        "\n",
        "    cluster_movies = cluster_movies.sort_values(by=['recency', 'frequency'], ascending=[False, False])\n",
        "\n",
        "    user_genre_vector = data[data['userId'] == user_id]['genre_vector'].iloc[0]\n",
        "\n",
        "    def genre_similarity(movie_genre_vector):\n",
        "        return np.dot(user_genre_vector, movie_genre_vector)\n",
        "\n",
        "    cluster_movies['genre_similarity'] = cluster_movies['genre_vector'].apply(genre_similarity)\n",
        "\n",
        "    cluster_movies = cluster_movies.sort_values(by=['genre_similarity', 'recency', 'frequency'], ascending=[False, False, False])\n",
        "\n",
        "    recommended_movies = cluster_movies[['title', 'recency', 'frequency', 'genre_similarity']].head(5)\n",
        "\n",
        "    print(f\"Recommended movies for user {user_id}:\")\n",
        "    print(recommended_movies[['title', 'recency', 'frequency', 'genre_similarity']])\n",
        "\n",
        "user_id_input = int(input(\"Enter your userId: \"))\n",
        "\n",
        "recommend_movies(user_id_input)\n"
      ],
      "metadata": {
        "colab": {
          "base_uri": "https://localhost:8080/"
        },
        "id": "S5P_-pIXJWIh",
        "outputId": "073cd503-1afc-408a-bf9d-cb3a02d11dc9"
      },
      "execution_count": 26,
      "outputs": [
        {
          "output_type": "stream",
          "name": "stdout",
          "text": [
            "Enter your userId: 1\n",
            "Recommended movies for user 1:\n",
            "                                   title   recency  frequency  \\\n",
            "2164998    Lord of the Rings, The (1978)  0.599744   0.569430   \n",
            "2074210                     Shrek (2001)  0.587947   0.484841   \n",
            "83355              Monsters, Inc. (2001)  0.581512   0.499178   \n",
            "732140          Wizard of Oz, The (1939)  0.580440   0.557960   \n",
            "732175   Escape to Witch Mountain (1975)  0.580440   0.557960   \n",
            "\n",
            "         genre_similarity  \n",
            "2164998               3.0  \n",
            "2074210               3.0  \n",
            "83355                 3.0  \n",
            "732140                3.0  \n",
            "732175                3.0  \n"
          ]
        }
      ]
    },
    {
      "cell_type": "code",
      "source": [],
      "metadata": {
        "id": "XQky6OB3KJCU"
      },
      "execution_count": null,
      "outputs": []
    }
  ]
}